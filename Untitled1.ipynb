{
 "cells": [
  {
   "cell_type": "code",
   "execution_count": 1,
   "id": "980e68cf",
   "metadata": {},
   "outputs": [],
   "source": [
    "import numpy as np\n",
    "import pandas as pd"
   ]
  },
  {
   "cell_type": "code",
   "execution_count": 2,
   "id": "8e54a713",
   "metadata": {},
   "outputs": [],
   "source": [
    "amaData = []\n",
    "with open(\"ama.txt\", \"rt\") as amafile:\n",
    "    tag = None\n",
    "    Q = None\n",
    "    A = None\n",
    "    for line in amafile:\n",
    "        if line.startswith('#'):            \n",
    "            tag = line[1:].lstrip().rstrip()\n",
    "        elif line.startswith('Q'):\n",
    "            Q = line[1:].lstrip().rstrip()\n",
    "        elif line.startswith('A'):\n",
    "            A = line[1:].lstrip().rstrip()   \n",
    "            amaData.append([tag, Q, A])\n",
    "    "
   ]
  },
  {
   "cell_type": "code",
   "execution_count": 3,
   "id": "41197394",
   "metadata": {},
   "outputs": [],
   "source": [
    "df = pd.DataFrame(amaData, columns = ['tag', 'question', 'answer'])"
   ]
  },
  {
   "cell_type": "code",
   "execution_count": 4,
   "id": "db25af19",
   "metadata": {},
   "outputs": [
    {
     "data": {
      "text/html": [
       "<div>\n",
       "<style scoped>\n",
       "    .dataframe tbody tr th:only-of-type {\n",
       "        vertical-align: middle;\n",
       "    }\n",
       "\n",
       "    .dataframe tbody tr th {\n",
       "        vertical-align: top;\n",
       "    }\n",
       "\n",
       "    .dataframe thead th {\n",
       "        text-align: right;\n",
       "    }\n",
       "</style>\n",
       "<table border=\"1\" class=\"dataframe\">\n",
       "  <thead>\n",
       "    <tr style=\"text-align: right;\">\n",
       "      <th></th>\n",
       "      <th>tag</th>\n",
       "      <th>question</th>\n",
       "      <th>answer</th>\n",
       "      <th>id</th>\n",
       "    </tr>\n",
       "  </thead>\n",
       "  <tbody>\n",
       "    <tr>\n",
       "      <th>0</th>\n",
       "      <td>Course-Related</td>\n",
       "      <td>In any of the quizzes under this program, if t...</td>\n",
       "      <td>The number of attempts is not counted for Phas...</td>\n",
       "      <td>1</td>\n",
       "    </tr>\n",
       "    <tr>\n",
       "      <th>1</th>\n",
       "      <td>Course-Related</td>\n",
       "      <td>Are there any hands-on projects during the Pha...</td>\n",
       "      <td>There are no projects in Phase 1. The projects...</td>\n",
       "      <td>2</td>\n",
       "    </tr>\n",
       "    <tr>\n",
       "      <th>2</th>\n",
       "      <td>Course-Related</td>\n",
       "      <td>Is it compulsory to know how Flask or Django w...</td>\n",
       "      <td>Technical questions can be answered by your pe...</td>\n",
       "      <td>3</td>\n",
       "    </tr>\n",
       "    <tr>\n",
       "      <th>3</th>\n",
       "      <td>Course-Related</td>\n",
       "      <td>As I was going through the program I noticed t...</td>\n",
       "      <td>You're correct in that there is no project req...</td>\n",
       "      <td>4</td>\n",
       "    </tr>\n",
       "    <tr>\n",
       "      <th>4</th>\n",
       "      <td>Course-Related</td>\n",
       "      <td>Hi I can't find email,what tools are we suppos...</td>\n",
       "      <td>Hey!!You can find the list of necessary tools ...</td>\n",
       "      <td>5</td>\n",
       "    </tr>\n",
       "    <tr>\n",
       "      <th>...</th>\n",
       "      <td>...</td>\n",
       "      <td>...</td>\n",
       "      <td>...</td>\n",
       "      <td>...</td>\n",
       "    </tr>\n",
       "    <tr>\n",
       "      <th>101</th>\n",
       "      <td>Miscellaneous</td>\n",
       "      <td>Will this slack workspace remain after phase 1?</td>\n",
       "      <td>This Slack space will not be in use after Phas...</td>\n",
       "      <td>102</td>\n",
       "    </tr>\n",
       "    <tr>\n",
       "      <th>102</th>\n",
       "      <td>Miscellaneous</td>\n",
       "      <td>Can we get the highlight of the mid term feedb...</td>\n",
       "      <td>While we might not be able to disclose every m...</td>\n",
       "      <td>103</td>\n",
       "    </tr>\n",
       "    <tr>\n",
       "      <th>103</th>\n",
       "      <td>Miscellaneous</td>\n",
       "      <td>What metrics do you use to evaluate the overal...</td>\n",
       "      <td>'% of students from the whole cohort that comp...</td>\n",
       "      <td>104</td>\n",
       "    </tr>\n",
       "    <tr>\n",
       "      <th>104</th>\n",
       "      <td>Miscellaneous</td>\n",
       "      <td>Will there be future SUSE scholarships?</td>\n",
       "      <td>We currently don’t have confirmation of future...</td>\n",
       "      <td>105</td>\n",
       "    </tr>\n",
       "    <tr>\n",
       "      <th>105</th>\n",
       "      <td>Miscellaneous</td>\n",
       "      <td>What are some suggestions to keep going if you...</td>\n",
       "      <td>Udacity offers a variety of free courses on a ...</td>\n",
       "      <td>106</td>\n",
       "    </tr>\n",
       "  </tbody>\n",
       "</table>\n",
       "<p>106 rows × 4 columns</p>\n",
       "</div>"
      ],
      "text/plain": [
       "                tag                                           question  \\\n",
       "0    Course-Related  In any of the quizzes under this program, if t...   \n",
       "1    Course-Related  Are there any hands-on projects during the Pha...   \n",
       "2    Course-Related  Is it compulsory to know how Flask or Django w...   \n",
       "3    Course-Related  As I was going through the program I noticed t...   \n",
       "4    Course-Related  Hi I can't find email,what tools are we suppos...   \n",
       "..              ...                                                ...   \n",
       "101   Miscellaneous    Will this slack workspace remain after phase 1?   \n",
       "102   Miscellaneous  Can we get the highlight of the mid term feedb...   \n",
       "103   Miscellaneous  What metrics do you use to evaluate the overal...   \n",
       "104   Miscellaneous            Will there be future SUSE scholarships?   \n",
       "105   Miscellaneous  What are some suggestions to keep going if you...   \n",
       "\n",
       "                                                answer   id  \n",
       "0    The number of attempts is not counted for Phas...    1  \n",
       "1    There are no projects in Phase 1. The projects...    2  \n",
       "2    Technical questions can be answered by your pe...    3  \n",
       "3    You're correct in that there is no project req...    4  \n",
       "4    Hey!!You can find the list of necessary tools ...    5  \n",
       "..                                                 ...  ...  \n",
       "101  This Slack space will not be in use after Phas...  102  \n",
       "102  While we might not be able to disclose every m...  103  \n",
       "103  '% of students from the whole cohort that comp...  104  \n",
       "104  We currently don’t have confirmation of future...  105  \n",
       "105  Udacity offers a variety of free courses on a ...  106  \n",
       "\n",
       "[106 rows x 4 columns]"
      ]
     },
     "execution_count": 4,
     "metadata": {},
     "output_type": "execute_result"
    }
   ],
   "source": [
    "df[\"id\"] = df.index + 1\n",
    "df"
   ]
  },
  {
   "cell_type": "markdown",
   "id": "a80006e6",
   "metadata": {},
   "source": [
    "## Try sentence encoder"
   ]
  },
  {
   "cell_type": "code",
   "execution_count": 5,
   "id": "b808b0ce",
   "metadata": {},
   "outputs": [],
   "source": [
    "import torch\n",
    "from sentence_transformers import SentenceTransformer\n",
    "\n",
    "import pickle"
   ]
  },
  {
   "cell_type": "code",
   "execution_count": 6,
   "id": "15eed5bd",
   "metadata": {},
   "outputs": [],
   "source": [
    "import faiss"
   ]
  },
  {
   "cell_type": "code",
   "execution_count": 7,
   "id": "ae20992e",
   "metadata": {},
   "outputs": [
    {
     "name": "stdout",
     "output_type": "stream",
     "text": [
      "cpu\n"
     ]
    }
   ],
   "source": [
    "model = SentenceTransformer('distilbert-base-nli-stsb-mean-tokens')\n",
    "\n",
    "if torch.cuda.is_available():\n",
    "    model = model.to(torch.device(\"cuda\"))\n",
    "print(model.device)\n"
   ]
  },
  {
   "cell_type": "code",
   "execution_count": 8,
   "id": "eb65013b",
   "metadata": {},
   "outputs": [
    {
     "data": {
      "application/vnd.jupyter.widget-view+json": {
       "model_id": "fed3073983504e6a830b30b5010e0261",
       "version_major": 2,
       "version_minor": 0
      },
      "text/plain": [
       "Batches:   0%|          | 0/4 [00:00<?, ?it/s]"
      ]
     },
     "metadata": {},
     "output_type": "display_data"
    }
   ],
   "source": [
    "question_answer = df.apply(lambda x: x['question'] +'.'+ x['answer'],  axis=1).to_list()\n",
    "embeddings = model.encode( question_answer , show_progress_bar=True)"
   ]
  },
  {
   "cell_type": "code",
   "execution_count": 9,
   "id": "51898951",
   "metadata": {},
   "outputs": [],
   "source": [
    "embeddings = np.array([embedding for embedding in embeddings]).astype(\"float32\")\n"
   ]
  },
  {
   "cell_type": "code",
   "execution_count": 10,
   "id": "a9ebc33a",
   "metadata": {},
   "outputs": [],
   "source": [
    "index = faiss.IndexFlatL2(embeddings.shape[1])"
   ]
  },
  {
   "cell_type": "code",
   "execution_count": 11,
   "id": "afddcc50",
   "metadata": {},
   "outputs": [],
   "source": [
    "index = faiss.IndexIDMap(index)\n"
   ]
  },
  {
   "cell_type": "code",
   "execution_count": 12,
   "id": "4fb23394",
   "metadata": {},
   "outputs": [],
   "source": [
    "index.add_with_ids(embeddings, df.id.values)\n"
   ]
  },
  {
   "cell_type": "code",
   "execution_count": null,
   "id": "d584db75",
   "metadata": {},
   "outputs": [],
   "source": []
  },
  {
   "cell_type": "code",
   "execution_count": 26,
   "id": "25f16795",
   "metadata": {},
   "outputs": [],
   "source": [
    "def vector_search(query, model, index, num_results=10):\n",
    "    \"\"\"Tranforms query to vector using a pretrained, sentence-level\n",
    "    DistilBERT model and finds similar vectors using FAISS.\n",
    "    \n",
    "    Args:\n",
    "        query (str): User query that should be more than a sentence long.\n",
    "        model (sentence_transformers.SentenceTransformer.SentenceTransformer)\n",
    "        index (`numpy.ndarray`): FAISS index that needs to be deserialized.\n",
    "        num_results (int): Number of results to return.\n",
    "    \n",
    "    Returns:\n",
    "        D (:obj:`numpy.array` of `float`): Distance between results and query.\n",
    "        I (:obj:`numpy.array` of `int`): Paper ID of the results.\n",
    "    \n",
    "    \"\"\"\n",
    "    vector = model.encode(list(query))\n",
    "    D, I = index.search(np.array(vector).astype(\"float32\"), k=num_results)\n",
    "    return D, I\n",
    "\n",
    "\n",
    "def id2details(df, I, column=None):\n",
    "    \"\"\"Returns the paper titles based on the paper index.\"\"\"\n",
    "    if column is None:\n",
    "        return pd.concat([(df[df.id == idx]) for idx in I[0]])\n",
    "    else:\n",
    "        return pd.concat([(df[df.id == idx][column]) for idx in I[0]])"
   ]
  },
  {
   "cell_type": "markdown",
   "id": "40f4c4d2",
   "metadata": {},
   "source": [
    "### Testing queries"
   ]
  },
  {
   "cell_type": "code",
   "execution_count": 27,
   "id": "fd3edcdf",
   "metadata": {},
   "outputs": [],
   "source": [
    "user_query = \"\"\"\n",
    "what are student led initiatives?\n",
    "\"\"\""
   ]
  },
  {
   "cell_type": "code",
   "execution_count": 28,
   "id": "1b713989",
   "metadata": {},
   "outputs": [],
   "source": [
    "D, I = vector_search([user_query], model, index, num_results=10)"
   ]
  },
  {
   "cell_type": "code",
   "execution_count": 29,
   "id": "2f6dd31a",
   "metadata": {},
   "outputs": [
    {
     "data": {
      "text/html": [
       "<div>\n",
       "<style scoped>\n",
       "    .dataframe tbody tr th:only-of-type {\n",
       "        vertical-align: middle;\n",
       "    }\n",
       "\n",
       "    .dataframe tbody tr th {\n",
       "        vertical-align: top;\n",
       "    }\n",
       "\n",
       "    .dataframe thead th {\n",
       "        text-align: right;\n",
       "    }\n",
       "</style>\n",
       "<table border=\"1\" class=\"dataframe\">\n",
       "  <thead>\n",
       "    <tr style=\"text-align: right;\">\n",
       "      <th></th>\n",
       "      <th>tag</th>\n",
       "      <th>question</th>\n",
       "      <th>answer</th>\n",
       "      <th>id</th>\n",
       "    </tr>\n",
       "  </thead>\n",
       "  <tbody>\n",
       "    <tr>\n",
       "      <th>23</th>\n",
       "      <td>Student-Led Events/Initiatives</td>\n",
       "      <td>Organising Fun activities comes under Student ...</td>\n",
       "      <td>Yes, you may organize fun events as you see fit</td>\n",
       "      <td>24</td>\n",
       "    </tr>\n",
       "    <tr>\n",
       "      <th>50</th>\n",
       "      <td>Student Advocate</td>\n",
       "      <td>Is applying for student advocate counted as pa...</td>\n",
       "      <td>We are only taking into consideration those wh...</td>\n",
       "      <td>51</td>\n",
       "    </tr>\n",
       "    <tr>\n",
       "      <th>94</th>\n",
       "      <td>Miscellaneous</td>\n",
       "      <td>Can we have some activity to get to know peopl...</td>\n",
       "      <td>If you have  an idea of how to go about this, ...</td>\n",
       "      <td>95</td>\n",
       "    </tr>\n",
       "    <tr>\n",
       "      <th>22</th>\n",
       "      <td>Student-Led Events/Initiatives</td>\n",
       "      <td>Hello, if I'd like to create a Student Initiat...</td>\n",
       "      <td>You can have the volunteer call based on your ...</td>\n",
       "      <td>23</td>\n",
       "    </tr>\n",
       "    <tr>\n",
       "      <th>34</th>\n",
       "      <td>Study Teams</td>\n",
       "      <td>What are the Study Teams?</td>\n",
       "      <td>You might want to check https://sites.google.c...</td>\n",
       "      <td>35</td>\n",
       "    </tr>\n",
       "    <tr>\n",
       "      <th>80</th>\n",
       "      <td>Community Participation</td>\n",
       "      <td>On what basis will Slack community participati...</td>\n",
       "      <td>Your participation in Slack is not necessarily...</td>\n",
       "      <td>81</td>\n",
       "    </tr>\n",
       "    <tr>\n",
       "      <th>21</th>\n",
       "      <td>Student-Led Events/Initiatives</td>\n",
       "      <td>Hello, will there be a channel created for stu...</td>\n",
       "      <td>We are already thinking about this but one of ...</td>\n",
       "      <td>22</td>\n",
       "    </tr>\n",
       "    <tr>\n",
       "      <th>30</th>\n",
       "      <td>Student-Led Events/Initiatives</td>\n",
       "      <td>Regarding student-led initiatives, for Project...</td>\n",
       "      <td>Hey!! No need to have a live demo. You are wel...</td>\n",
       "      <td>31</td>\n",
       "    </tr>\n",
       "    <tr>\n",
       "      <th>32</th>\n",
       "      <td>Study Teams</td>\n",
       "      <td>Will students form groups by themselves?</td>\n",
       "      <td>Through Study Teams, scholars will be able to ...</td>\n",
       "      <td>33</td>\n",
       "    </tr>\n",
       "    <tr>\n",
       "      <th>47</th>\n",
       "      <td>Student Advocate</td>\n",
       "      <td>Where may I read more about the Student Advoca...</td>\n",
       "      <td>We will be launching Student Advocates Friday,...</td>\n",
       "      <td>48</td>\n",
       "    </tr>\n",
       "  </tbody>\n",
       "</table>\n",
       "</div>"
      ],
      "text/plain": [
       "                               tag  \\\n",
       "23  Student-Led Events/Initiatives   \n",
       "50                Student Advocate   \n",
       "94                   Miscellaneous   \n",
       "22  Student-Led Events/Initiatives   \n",
       "34                     Study Teams   \n",
       "80         Community Participation   \n",
       "21  Student-Led Events/Initiatives   \n",
       "30  Student-Led Events/Initiatives   \n",
       "32                     Study Teams   \n",
       "47                Student Advocate   \n",
       "\n",
       "                                             question  \\\n",
       "23  Organising Fun activities comes under Student ...   \n",
       "50  Is applying for student advocate counted as pa...   \n",
       "94  Can we have some activity to get to know peopl...   \n",
       "22  Hello, if I'd like to create a Student Initiat...   \n",
       "34                          What are the Study Teams?   \n",
       "80  On what basis will Slack community participati...   \n",
       "21  Hello, will there be a channel created for stu...   \n",
       "30  Regarding student-led initiatives, for Project...   \n",
       "32           Will students form groups by themselves?   \n",
       "47  Where may I read more about the Student Advoca...   \n",
       "\n",
       "                                               answer  id  \n",
       "23    Yes, you may organize fun events as you see fit  24  \n",
       "50  We are only taking into consideration those wh...  51  \n",
       "94  If you have  an idea of how to go about this, ...  95  \n",
       "22  You can have the volunteer call based on your ...  23  \n",
       "34  You might want to check https://sites.google.c...  35  \n",
       "80  Your participation in Slack is not necessarily...  81  \n",
       "21  We are already thinking about this but one of ...  22  \n",
       "30  Hey!! No need to have a live demo. You are wel...  31  \n",
       "32  Through Study Teams, scholars will be able to ...  33  \n",
       "47  We will be launching Student Advocates Friday,...  48  "
      ]
     },
     "execution_count": 29,
     "metadata": {},
     "output_type": "execute_result"
    }
   ],
   "source": [
    "id2details(df, I)"
   ]
  },
  {
   "cell_type": "code",
   "execution_count": null,
   "id": "8609cf26",
   "metadata": {},
   "outputs": [],
   "source": []
  },
  {
   "cell_type": "code",
   "execution_count": null,
   "id": "ac689666",
   "metadata": {},
   "outputs": [],
   "source": []
  }
 ],
 "metadata": {
  "kernelspec": {
   "display_name": "qasenv",
   "language": "python",
   "name": "qasenv"
  },
  "language_info": {
   "codemirror_mode": {
    "name": "ipython",
    "version": 3
   },
   "file_extension": ".py",
   "mimetype": "text/x-python",
   "name": "python",
   "nbconvert_exporter": "python",
   "pygments_lexer": "ipython3",
   "version": "3.9.5"
  }
 },
 "nbformat": 4,
 "nbformat_minor": 5
}
